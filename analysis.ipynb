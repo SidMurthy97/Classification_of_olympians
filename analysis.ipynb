{
 "cells": [
  {
   "attachments": {},
   "cell_type": "markdown",
   "metadata": {},
   "source": [
    "# Introduction\n",
    "This is a project to get more familiar with the classical machine learning technique of random forests and decision trees. The project aims to be able to classify athletes based on their height, weight, gender and age into the sport they compete in. The dataset is sourced from Kaggle."
   ]
  },
  {
   "cell_type": "code",
   "execution_count": 37,
   "metadata": {},
   "outputs": [],
   "source": [
    "import pandas as pd\n",
    "import numpy as np\n",
    "import matplotlib.pyplot as plt\n",
    "import seaborn as sns\n",
    "from tqdm import tqdm"
   ]
  },
  {
   "attachments": {},
   "cell_type": "markdown",
   "metadata": {},
   "source": [
    "## 1. Exploratory Data Analysis"
   ]
  },
  {
   "cell_type": "code",
   "execution_count": 3,
   "metadata": {},
   "outputs": [
    {
     "data": {
      "text/html": [
       "<div>\n",
       "<style scoped>\n",
       "    .dataframe tbody tr th:only-of-type {\n",
       "        vertical-align: middle;\n",
       "    }\n",
       "\n",
       "    .dataframe tbody tr th {\n",
       "        vertical-align: top;\n",
       "    }\n",
       "\n",
       "    .dataframe thead th {\n",
       "        text-align: right;\n",
       "    }\n",
       "</style>\n",
       "<table border=\"1\" class=\"dataframe\">\n",
       "  <thead>\n",
       "    <tr style=\"text-align: right;\">\n",
       "      <th></th>\n",
       "      <th>Name</th>\n",
       "      <th>Sex</th>\n",
       "      <th>Age</th>\n",
       "      <th>Height</th>\n",
       "      <th>Weight</th>\n",
       "      <th>Team</th>\n",
       "      <th>NOC</th>\n",
       "      <th>Games</th>\n",
       "      <th>Year</th>\n",
       "      <th>Season</th>\n",
       "      <th>City</th>\n",
       "      <th>Sport</th>\n",
       "      <th>Event</th>\n",
       "      <th>Medal</th>\n",
       "    </tr>\n",
       "    <tr>\n",
       "      <th>ID</th>\n",
       "      <th></th>\n",
       "      <th></th>\n",
       "      <th></th>\n",
       "      <th></th>\n",
       "      <th></th>\n",
       "      <th></th>\n",
       "      <th></th>\n",
       "      <th></th>\n",
       "      <th></th>\n",
       "      <th></th>\n",
       "      <th></th>\n",
       "      <th></th>\n",
       "      <th></th>\n",
       "      <th></th>\n",
       "    </tr>\n",
       "  </thead>\n",
       "  <tbody>\n",
       "    <tr>\n",
       "      <th>1</th>\n",
       "      <td>A Dijiang</td>\n",
       "      <td>M</td>\n",
       "      <td>24.0</td>\n",
       "      <td>180.0</td>\n",
       "      <td>80.0</td>\n",
       "      <td>China</td>\n",
       "      <td>CHN</td>\n",
       "      <td>1992 Summer</td>\n",
       "      <td>1992</td>\n",
       "      <td>Summer</td>\n",
       "      <td>Barcelona</td>\n",
       "      <td>Basketball</td>\n",
       "      <td>Basketball Men's Basketball</td>\n",
       "      <td>NaN</td>\n",
       "    </tr>\n",
       "    <tr>\n",
       "      <th>2</th>\n",
       "      <td>A Lamusi</td>\n",
       "      <td>M</td>\n",
       "      <td>23.0</td>\n",
       "      <td>170.0</td>\n",
       "      <td>60.0</td>\n",
       "      <td>China</td>\n",
       "      <td>CHN</td>\n",
       "      <td>2012 Summer</td>\n",
       "      <td>2012</td>\n",
       "      <td>Summer</td>\n",
       "      <td>London</td>\n",
       "      <td>Judo</td>\n",
       "      <td>Judo Men's Extra-Lightweight</td>\n",
       "      <td>NaN</td>\n",
       "    </tr>\n",
       "    <tr>\n",
       "      <th>3</th>\n",
       "      <td>Gunnar Nielsen Aaby</td>\n",
       "      <td>M</td>\n",
       "      <td>24.0</td>\n",
       "      <td>NaN</td>\n",
       "      <td>NaN</td>\n",
       "      <td>Denmark</td>\n",
       "      <td>DEN</td>\n",
       "      <td>1920 Summer</td>\n",
       "      <td>1920</td>\n",
       "      <td>Summer</td>\n",
       "      <td>Antwerpen</td>\n",
       "      <td>Football</td>\n",
       "      <td>Football Men's Football</td>\n",
       "      <td>NaN</td>\n",
       "    </tr>\n",
       "    <tr>\n",
       "      <th>4</th>\n",
       "      <td>Edgar Lindenau Aabye</td>\n",
       "      <td>M</td>\n",
       "      <td>34.0</td>\n",
       "      <td>NaN</td>\n",
       "      <td>NaN</td>\n",
       "      <td>Denmark/Sweden</td>\n",
       "      <td>DEN</td>\n",
       "      <td>1900 Summer</td>\n",
       "      <td>1900</td>\n",
       "      <td>Summer</td>\n",
       "      <td>Paris</td>\n",
       "      <td>Tug-Of-War</td>\n",
       "      <td>Tug-Of-War Men's Tug-Of-War</td>\n",
       "      <td>Gold</td>\n",
       "    </tr>\n",
       "    <tr>\n",
       "      <th>5</th>\n",
       "      <td>Christine Jacoba Aaftink</td>\n",
       "      <td>F</td>\n",
       "      <td>21.0</td>\n",
       "      <td>185.0</td>\n",
       "      <td>82.0</td>\n",
       "      <td>Netherlands</td>\n",
       "      <td>NED</td>\n",
       "      <td>1988 Winter</td>\n",
       "      <td>1988</td>\n",
       "      <td>Winter</td>\n",
       "      <td>Calgary</td>\n",
       "      <td>Speed Skating</td>\n",
       "      <td>Speed Skating Women's 500 metres</td>\n",
       "      <td>NaN</td>\n",
       "    </tr>\n",
       "  </tbody>\n",
       "</table>\n",
       "</div>"
      ],
      "text/plain": [
       "                        Name Sex   Age  Height  Weight            Team  NOC  \\\n",
       "ID                                                                            \n",
       "1                  A Dijiang   M  24.0   180.0    80.0           China  CHN   \n",
       "2                   A Lamusi   M  23.0   170.0    60.0           China  CHN   \n",
       "3        Gunnar Nielsen Aaby   M  24.0     NaN     NaN         Denmark  DEN   \n",
       "4       Edgar Lindenau Aabye   M  34.0     NaN     NaN  Denmark/Sweden  DEN   \n",
       "5   Christine Jacoba Aaftink   F  21.0   185.0    82.0     Netherlands  NED   \n",
       "\n",
       "          Games  Year  Season       City          Sport  \\\n",
       "ID                                                        \n",
       "1   1992 Summer  1992  Summer  Barcelona     Basketball   \n",
       "2   2012 Summer  2012  Summer     London           Judo   \n",
       "3   1920 Summer  1920  Summer  Antwerpen       Football   \n",
       "4   1900 Summer  1900  Summer      Paris     Tug-Of-War   \n",
       "5   1988 Winter  1988  Winter    Calgary  Speed Skating   \n",
       "\n",
       "                               Event Medal  \n",
       "ID                                          \n",
       "1        Basketball Men's Basketball   NaN  \n",
       "2       Judo Men's Extra-Lightweight   NaN  \n",
       "3            Football Men's Football   NaN  \n",
       "4        Tug-Of-War Men's Tug-Of-War  Gold  \n",
       "5   Speed Skating Women's 500 metres   NaN  "
      ]
     },
     "execution_count": 3,
     "metadata": {},
     "output_type": "execute_result"
    }
   ],
   "source": [
    "raw_data = pd.read_csv(\"data/athlete_events.csv\", index_col=0)\n",
    "raw_data.head()"
   ]
  },
  {
   "cell_type": "code",
   "execution_count": 4,
   "metadata": {},
   "outputs": [
    {
     "name": "stdout",
     "output_type": "stream",
     "text": [
      "<class 'pandas.core.frame.DataFrame'>\n",
      "Int64Index: 271116 entries, 1 to 135571\n",
      "Data columns (total 14 columns):\n",
      " #   Column  Non-Null Count   Dtype  \n",
      "---  ------  --------------   -----  \n",
      " 0   Name    271116 non-null  object \n",
      " 1   Sex     271116 non-null  object \n",
      " 2   Age     261642 non-null  float64\n",
      " 3   Height  210945 non-null  float64\n",
      " 4   Weight  208241 non-null  float64\n",
      " 5   Team    271116 non-null  object \n",
      " 6   NOC     271116 non-null  object \n",
      " 7   Games   271116 non-null  object \n",
      " 8   Year    271116 non-null  int64  \n",
      " 9   Season  271116 non-null  object \n",
      " 10  City    271116 non-null  object \n",
      " 11  Sport   271116 non-null  object \n",
      " 12  Event   271116 non-null  object \n",
      " 13  Medal   39783 non-null   object \n",
      "dtypes: float64(3), int64(1), object(10)\n",
      "memory usage: 31.0+ MB\n"
     ]
    }
   ],
   "source": [
    "raw_data.info()"
   ]
  },
  {
   "cell_type": "markdown",
   "metadata": {},
   "source": [
    "As expected, the `Medals` column has nulls as not all athletes would win a medal. There are also nulls in the `Age`, `Height` and `Weight` columns. It would make sense that if the `Height` column is null, the `Weight` column would also be null. If that is true, we can just drop these rows. If not, we could explore whether the athelete for whom the data is missing has any other entires in the dataset where the data is not missing."
   ]
  },
  {
   "cell_type": "code",
   "execution_count": 18,
   "metadata": {},
   "outputs": [
    {
     "name": "stdout",
     "output_type": "stream",
     "text": [
      "Out of 60171 rows of missing height data and 62875 of missing weight data, 32817 are the same row\n"
     ]
    }
   ],
   "source": [
    "#Find the indices of the null rows in the Height column and intersect with the same on the Weight column\n",
    "same_index_na = len(set(raw_data[raw_data[\"Height\"].isna()].index).intersection(raw_data[raw_data[\"Weight\"].isna()].index))\n",
    "\n",
    "n_height_na = len(raw_data[raw_data[\"Height\"].isna()])\n",
    "n_weight_na = len(raw_data[raw_data[\"Weight\"].isna()])\n",
    "\n",
    "print(f\"Out of {n_height_na} rows of missing height data and {n_weight_na} of missing weight data, {same_index_na} are the same row\")\n"
   ]
  },
  {
   "cell_type": "markdown",
   "metadata": {},
   "source": [
    "More than half of the rows where the `Height` is missing, the `Weight` is too. There is definitely a case to drop the intersecting indices. As for the non intersecting indices, while we could search the dataset for other entires for the same athletes, there is no guarantee that their weight (and even their height) would stay the same across Olympics'. Given the large dataset, I am comfortable dropping all rows with NaNs in the `Height` and `Weight` columns."
   ]
  },
  {
   "cell_type": "code",
   "execution_count": 22,
   "metadata": {},
   "outputs": [
    {
     "data": {
      "text/html": [
       "<div>\n",
       "<style scoped>\n",
       "    .dataframe tbody tr th:only-of-type {\n",
       "        vertical-align: middle;\n",
       "    }\n",
       "\n",
       "    .dataframe tbody tr th {\n",
       "        vertical-align: top;\n",
       "    }\n",
       "\n",
       "    .dataframe thead th {\n",
       "        text-align: right;\n",
       "    }\n",
       "</style>\n",
       "<table border=\"1\" class=\"dataframe\">\n",
       "  <thead>\n",
       "    <tr style=\"text-align: right;\">\n",
       "      <th></th>\n",
       "      <th>Name</th>\n",
       "      <th>Sex</th>\n",
       "      <th>Age</th>\n",
       "      <th>Height</th>\n",
       "      <th>Weight</th>\n",
       "      <th>Team</th>\n",
       "      <th>NOC</th>\n",
       "      <th>Games</th>\n",
       "      <th>Year</th>\n",
       "      <th>Season</th>\n",
       "      <th>City</th>\n",
       "      <th>Sport</th>\n",
       "      <th>Event</th>\n",
       "      <th>Medal</th>\n",
       "    </tr>\n",
       "  </thead>\n",
       "  <tbody>\n",
       "    <tr>\n",
       "      <th>0</th>\n",
       "      <td>A Dijiang</td>\n",
       "      <td>M</td>\n",
       "      <td>24.0</td>\n",
       "      <td>180.0</td>\n",
       "      <td>80.0</td>\n",
       "      <td>China</td>\n",
       "      <td>CHN</td>\n",
       "      <td>1992 Summer</td>\n",
       "      <td>1992</td>\n",
       "      <td>Summer</td>\n",
       "      <td>Barcelona</td>\n",
       "      <td>Basketball</td>\n",
       "      <td>Basketball Men's Basketball</td>\n",
       "      <td>NaN</td>\n",
       "    </tr>\n",
       "    <tr>\n",
       "      <th>1</th>\n",
       "      <td>A Lamusi</td>\n",
       "      <td>M</td>\n",
       "      <td>23.0</td>\n",
       "      <td>170.0</td>\n",
       "      <td>60.0</td>\n",
       "      <td>China</td>\n",
       "      <td>CHN</td>\n",
       "      <td>2012 Summer</td>\n",
       "      <td>2012</td>\n",
       "      <td>Summer</td>\n",
       "      <td>London</td>\n",
       "      <td>Judo</td>\n",
       "      <td>Judo Men's Extra-Lightweight</td>\n",
       "      <td>NaN</td>\n",
       "    </tr>\n",
       "    <tr>\n",
       "      <th>2</th>\n",
       "      <td>Christine Jacoba Aaftink</td>\n",
       "      <td>F</td>\n",
       "      <td>21.0</td>\n",
       "      <td>185.0</td>\n",
       "      <td>82.0</td>\n",
       "      <td>Netherlands</td>\n",
       "      <td>NED</td>\n",
       "      <td>1988 Winter</td>\n",
       "      <td>1988</td>\n",
       "      <td>Winter</td>\n",
       "      <td>Calgary</td>\n",
       "      <td>Speed Skating</td>\n",
       "      <td>Speed Skating Women's 500 metres</td>\n",
       "      <td>NaN</td>\n",
       "    </tr>\n",
       "    <tr>\n",
       "      <th>3</th>\n",
       "      <td>Christine Jacoba Aaftink</td>\n",
       "      <td>F</td>\n",
       "      <td>21.0</td>\n",
       "      <td>185.0</td>\n",
       "      <td>82.0</td>\n",
       "      <td>Netherlands</td>\n",
       "      <td>NED</td>\n",
       "      <td>1988 Winter</td>\n",
       "      <td>1988</td>\n",
       "      <td>Winter</td>\n",
       "      <td>Calgary</td>\n",
       "      <td>Speed Skating</td>\n",
       "      <td>Speed Skating Women's 1,000 metres</td>\n",
       "      <td>NaN</td>\n",
       "    </tr>\n",
       "    <tr>\n",
       "      <th>4</th>\n",
       "      <td>Christine Jacoba Aaftink</td>\n",
       "      <td>F</td>\n",
       "      <td>25.0</td>\n",
       "      <td>185.0</td>\n",
       "      <td>82.0</td>\n",
       "      <td>Netherlands</td>\n",
       "      <td>NED</td>\n",
       "      <td>1992 Winter</td>\n",
       "      <td>1992</td>\n",
       "      <td>Winter</td>\n",
       "      <td>Albertville</td>\n",
       "      <td>Speed Skating</td>\n",
       "      <td>Speed Skating Women's 500 metres</td>\n",
       "      <td>NaN</td>\n",
       "    </tr>\n",
       "  </tbody>\n",
       "</table>\n",
       "</div>"
      ],
      "text/plain": [
       "                       Name Sex   Age  Height  Weight         Team  NOC  \\\n",
       "0                 A Dijiang   M  24.0   180.0    80.0        China  CHN   \n",
       "1                  A Lamusi   M  23.0   170.0    60.0        China  CHN   \n",
       "2  Christine Jacoba Aaftink   F  21.0   185.0    82.0  Netherlands  NED   \n",
       "3  Christine Jacoba Aaftink   F  21.0   185.0    82.0  Netherlands  NED   \n",
       "4  Christine Jacoba Aaftink   F  25.0   185.0    82.0  Netherlands  NED   \n",
       "\n",
       "         Games  Year  Season         City          Sport  \\\n",
       "0  1992 Summer  1992  Summer    Barcelona     Basketball   \n",
       "1  2012 Summer  2012  Summer       London           Judo   \n",
       "2  1988 Winter  1988  Winter      Calgary  Speed Skating   \n",
       "3  1988 Winter  1988  Winter      Calgary  Speed Skating   \n",
       "4  1992 Winter  1992  Winter  Albertville  Speed Skating   \n",
       "\n",
       "                                Event Medal  \n",
       "0         Basketball Men's Basketball   NaN  \n",
       "1        Judo Men's Extra-Lightweight   NaN  \n",
       "2    Speed Skating Women's 500 metres   NaN  \n",
       "3  Speed Skating Women's 1,000 metres   NaN  \n",
       "4    Speed Skating Women's 500 metres   NaN  "
      ]
     },
     "execution_count": 22,
     "metadata": {},
     "output_type": "execute_result"
    }
   ],
   "source": [
    "data_dropped_hw_na = raw_data[(~raw_data[\"Height\"].isna()) & (~raw_data[\"Weight\"].isna())].reset_index(drop=True)\n",
    "data_dropped_hw_na.head()"
   ]
  },
  {
   "cell_type": "markdown",
   "metadata": {},
   "source": [
    "We still have a dataset with more than 200,000 entires. Lets see how many reaiming rows are missing `Age` data. "
   ]
  },
  {
   "cell_type": "code",
   "execution_count": 26,
   "metadata": {},
   "outputs": [
    {
     "name": "stdout",
     "output_type": "stream",
     "text": [
      "688 rows still have missing data for Age\n"
     ]
    }
   ],
   "source": [
    "age_na = len(data_dropped_hw_na[data_dropped_hw_na[\"Age\"].isna()])\n",
    "print(f\"{age_na} rows still have missing data for Age\")"
   ]
  },
  {
   "cell_type": "markdown",
   "metadata": {},
   "source": [
    "Given that such a small number of rows with missing data remain, we could drop them. However, I am interested to see if the athletes with missing age data have populated data elsewhere in the dataset."
   ]
  },
  {
   "cell_type": "code",
   "execution_count": 44,
   "metadata": {},
   "outputs": [
    {
     "name": "stdout",
     "output_type": "stream",
     "text": [
      "                        Name   Age        Games    Team\n",
      "39868  Dimitrios Deligiannis  22.0  1984 Summer  Greece\n",
      "39869  Dimitrios Deligiannis  26.0  1988 Summer  Greece\n",
      "39870  Dimitrios Deligiannis  30.0  1992 Summer  Greece\n",
      "39871  Dimitrios Deligiannis   NaN  1896 Summer  Greece\n",
      "                 Name   Age        Games        Team\n",
      "41164  Mamadou Diallo   NaN  1984 Summer  Mauritania\n",
      "41165  Mamadou Diallo  38.0  1980 Summer      Guinea\n",
      "41166  Mamadou Diallo  29.0  1984 Summer     Senegal\n",
      "               Name   Age        Games         Team\n",
      "90082  Kim Yong-Bae   NaN  1968 Summer  South Korea\n",
      "90083  Kim Yong-Bae  22.0  1996 Summer  South Korea\n",
      "90084  Kim Yong-Bae  26.0  2000 Summer  South Korea\n",
      "90085  Kim Yong-Bae  30.0  2004 Summer  South Korea\n",
      "90086  Kim Yong-Bae  34.0  2008 Summer  South Korea\n"
     ]
    }
   ],
   "source": [
    "for athlete in (data_dropped_hw_na[data_dropped_hw_na[\"Age\"].isna()][\"Name\"].unique()):\n",
    "\n",
    "    athlete_all_entires = data_dropped_hw_na[data_dropped_hw_na[\"Name\"] == athlete]\n",
    "\n",
    "    if len(athlete_all_entires[~athlete_all_entires[\"Age\"].isna()]) > 0:\n",
    "        print(athlete_all_entires[[\"Name\",\"Age\",\"Games\",\"Team\"]])\n",
    "    \n",
    "    "
   ]
  },
  {
   "cell_type": "markdown",
   "metadata": {},
   "source": [
    "For all but 3 athletes, there are no other instances of their age in the dataset (unless they changed their name between games). There are ages recorded for 3 athletes, however for all of them the athlete with populated data is clearly different from the athlete with populated data. In the case of Mamadou Diallo, the populated data athlete is competing for Senegal, wheras the unpopulated data athlete is competeing for Mauritiania. All that work to save no rows of data, but interesting to see nonetheless. Lets drop all rows where `Age` is NaN."
   ]
  },
  {
   "cell_type": "code",
   "execution_count": 47,
   "metadata": {},
   "outputs": [
    {
     "name": "stdout",
     "output_type": "stream",
     "text": [
      "<class 'pandas.core.frame.DataFrame'>\n",
      "Int64Index: 206165 entries, 0 to 206852\n",
      "Data columns (total 14 columns):\n",
      " #   Column  Non-Null Count   Dtype  \n",
      "---  ------  --------------   -----  \n",
      " 0   Name    206165 non-null  object \n",
      " 1   Sex     206165 non-null  object \n",
      " 2   Age     206165 non-null  float64\n",
      " 3   Height  206165 non-null  float64\n",
      " 4   Weight  206165 non-null  float64\n",
      " 5   Team    206165 non-null  object \n",
      " 6   NOC     206165 non-null  object \n",
      " 7   Games   206165 non-null  object \n",
      " 8   Year    206165 non-null  int64  \n",
      " 9   Season  206165 non-null  object \n",
      " 10  City    206165 non-null  object \n",
      " 11  Sport   206165 non-null  object \n",
      " 12  Event   206165 non-null  object \n",
      " 13  Medal   30181 non-null   object \n",
      "dtypes: float64(3), int64(1), object(10)\n",
      "memory usage: 23.6+ MB\n"
     ]
    }
   ],
   "source": [
    "data_no_na = data_dropped_hw_na[~data_dropped_hw_na[\"Age\"].isna()]\n",
    "data_no_na.info()"
   ]
  },
  {
   "cell_type": "markdown",
   "metadata": {},
   "source": [
    "The remaining dataset has 206,165 entires. That is enough to train a Random Forest on. Many rows in this dataset, however, are the same athlete. As we are trying to classify the sport an athlete plays based on some metrics it is valid that now all rows in the database are unique. An athlete may play more than two sports, and changes in weight and height across time for the same athlete will add some variance to the dataset."
   ]
  }
 ],
 "metadata": {
  "kernelspec": {
   "display_name": "nba_analysis",
   "language": "python",
   "name": "python3"
  },
  "language_info": {
   "codemirror_mode": {
    "name": "ipython",
    "version": 3
   },
   "file_extension": ".py",
   "mimetype": "text/x-python",
   "name": "python",
   "nbconvert_exporter": "python",
   "pygments_lexer": "ipython3",
   "version": "3.10.2"
  },
  "orig_nbformat": 4
 },
 "nbformat": 4,
 "nbformat_minor": 2
}
